{
 "cells": [
  {
   "cell_type": "code",
   "execution_count": 372,
   "metadata": {},
   "outputs": [],
   "source": [
    "import numpy as np\n",
    "from numpy import exp, log\n",
    "from matplotlib import pyplot as plt\n",
    "\n",
    "#note that python log(x) default = ln(x) "
   ]
  },
  {
   "cell_type": "code",
   "execution_count": 373,
   "metadata": {},
   "outputs": [],
   "source": [
    "\n",
    "ln2 = log(2)\n",
    "\n",
    "def f(x):\n",
    "    return (exp(6*x) + 3*ln2*ln2*exp(2*x) - 3*ln2*exp(4*x) - ln2*ln2*ln2) #3 same roots\n",
    "\n",
    "def fp(x):\n",
    "    return (6*exp(6*x) + 6*ln2*ln2*exp(2*x) - 12*ln2*exp(4*x))\n",
    "\n",
    "def fpp(x):\n",
    "    return (36*exp(6*x) + 12*ln2*ln2*exp(2*x) - 48*ln2*exp(4*x))\n",
    "    "
   ]
  },
  {
   "cell_type": "code",
   "execution_count": 374,
   "metadata": {},
   "outputs": [
    {
     "data": {
      "image/png": "[encoded data removed]",
      "text/plain": [
       "<Figure size 432x288 with 1 Axes>"
      ]
     },
     "metadata": {
      "needs_background": "light"
     },
     "output_type": "display_data"
    }
   ],
   "source": [
    "x = np.arange(-0.3,-0.1, 0.00001) #(-20,0) #(-1.0, 0.1) #-.3 -.1\n",
    "y = f(x)\n",
    "plt.title(\"y = f(x)\") \n",
    "plt.xlabel(\"x axis\") \n",
    "plt.ylabel(\"y axis\") \n",
    "plt.plot(x,y)\n",
    "plt.show()"
   ]
  },
  {
   "cell_type": "code",
   "execution_count": 375,
   "metadata": {},
   "outputs": [],
   "source": [
    "eps = 1e-5\n",
    "x0 = -0.3"
   ]
  },
  {
   "cell_type": "code",
   "execution_count": 376,
   "metadata": {},
   "outputs": [],
   "source": [
    "#Newton's method\n",
    "def newton(x0, f, fp, eps, M = 50):\n",
    "    \n",
    "    x1 = x0 + eps + 1000\n",
    "    for R in range(0, M+1):\n",
    "        if(abs(x1-x0) < eps):\n",
    "            print(\"converge within {} rounds\".format(R))\n",
    "            return x0\n",
    "        #if(abs(f(x0)) < eps): print(\"converge within {} rounds\".format(R))\n",
    "        #if(abs(fp(x0)) < 1e-9):print(\"zero gradient, can't converge\")\n",
    "        #thx teacher for clarifying \n",
    "        x1 = x0 - f(x0)/fp(x0)\n",
    "        print(\"round {} | sol {} | f(sol) {}\".format(R+1, x1, f(x1)))\n",
    "        x0, x1 = x1, x0 #bug with x0 = x1\n",
    "\n",
    "    print(\"doesn't converge to solution within eps = {}, MaxIter = {}\".format(eps, M))\n",
    "    \n",
    "    return x0, R"
   ]
  },
  {
   "cell_type": "code",
   "execution_count": 377,
   "metadata": {},
   "outputs": [
    {
     "name": "stdout",
     "output_type": "stream",
     "text": [
      "round 1 | sol -0.2561672484773413 | f(sol) -0.0008319584499118515\n",
      "round 2 | sol -0.2300022925892785 | f(sol) -0.00023679098213796879\n",
      "round 3 | sol -0.21366871741953886 | f(sol) -6.843677555951055e-05\n",
      "round 4 | sol -0.20321664959503466 | f(sol) -1.9959104397726524e-05\n",
      "round 5 | sol -0.19642866514683494 | f(sol) -5.853527024368699e-06\n",
      "round 6 | sol -0.19197958328975814 | f(sol) -1.7227952653908751e-06\n",
      "round 7 | sol -0.18904636318221163 | f(sol) -5.082108354703685e-07\n",
      "round 8 | sol -0.1871051779688435 | f(sol) -1.5014238835542315e-07\n",
      "round 9 | sol -0.18581732184060867 | f(sol) -4.4400676524336546e-08\n",
      "round 10 | sol -0.18496151158512897 | f(sol) -1.3138865495587737e-08\n",
      "round 11 | sol -0.18439219098163706 | f(sol) -3.889672195445115e-09\n",
      "round 12 | sol -0.1840131838051452 | f(sol) -1.151840345325894e-09\n",
      "round 13 | sol -0.18376075164524447 | f(sol) -3.4115671398993186e-10\n",
      "round 14 | sol -0.18359256974333474 | f(sol) -1.0105799530535364e-10\n",
      "round 15 | sol -0.18348049558999 | f(sol) -2.993810754858828e-11\n",
      "round 16 | sol -0.18340580033770548 | f(sol) -8.869627254881607e-12\n",
      "round 17 | sol -0.18335601234647086 | f(sol) -2.6279534104389768e-12\n",
      "round 18 | sol -0.18332282270884712 | f(sol) -7.78543896018391e-13\n",
      "round 19 | sol -0.18330069857074202 | f(sol) -2.307598556683388e-13\n",
      "round 20 | sol -0.18328594310204657 | f(sol) -6.833422716567839e-14\n",
      "round 21 | sol -0.18327610606978667 | f(sol) -2.0261570199409107e-14\n",
      "converge within 21 rounds\n"
     ]
    },
    {
     "data": {
      "text/plain": [
       "-0.18327610606978667"
      ]
     },
     "execution_count": 377,
     "metadata": {},
     "output_type": "execute_result"
    }
   ],
   "source": [
    "newton(x0, f, fp, eps) #0.6, -0.6"
   ]
  },
  {
   "cell_type": "code",
   "execution_count": 378,
   "metadata": {},
   "outputs": [],
   "source": [
    "#Modified Newton's method\n",
    "def modified_newton(x0, f, fp, fpp, eps, M = 50):\n",
    "    x1 = x0 + eps + 1000\n",
    "    for R in range(0, M):\n",
    "        if(abs(x1-x0) < eps):\n",
    "            print(\"converge within {} rounds\".format(R))\n",
    "            return x0\n",
    "        x1 = x0 - (f(x0)*fp(x0))/(fp(x0)*fp(x0)-f(x0)*fpp(x0))\n",
    "        print(\"round {} | sol {} | f(sol) {}\".format(R+1, x1, f(x1))) #+1 because after x1 = blablabla\n",
    "        x0, x1 = x1, x0\n",
    "\n",
    "    print(\"doesn't converge to solution within eps = {}, MaxIter = {}\".format(eps, M))\n",
    "    return x0, R\n"
   ]
  },
  {
   "cell_type": "code",
   "execution_count": 379,
   "metadata": {},
   "outputs": [
    {
     "name": "stdout",
     "output_type": "stream",
     "text": [
      "round 1 | sol -0.19588391288750334 | f(sol) -5.165306968202277e-06\n",
      "round 2 | sol -0.1834145789615947 | f(sol) -1.0527079208344503e-11\n",
      "round 3 | sol -0.18325648740664252 | f(sol) -5.551115123125783e-17\n",
      "round 4 | sol -0.18325650072571673 | f(sol) 5.551115123125783e-17\n",
      "converge within 4 rounds\n"
     ]
    },
    {
     "data": {
      "text/plain": [
       "-0.18325650072571673"
      ]
     },
     "execution_count": 379,
     "metadata": {},
     "output_type": "execute_result"
    }
   ],
   "source": [
    "#modified newton's method is a lot faster then newton's method\n",
    "modified_newton(x0, f, fp, fpp, eps) "
   ]
  },
  {
   "cell_type": "code",
   "execution_count": 380,
   "metadata": {},
   "outputs": [],
   "source": [
    "#SOR Newton's Method\n",
    "def SOR_newton(x0, f, fp, m, eps, M = 50):\n",
    "    x1 = x0 + eps + 1000\n",
    "    for R in range(0, M+1):\n",
    "        if(abs(x1-x0) < eps):\n",
    "            #print(\"converge within {} rounds\".format(R))\n",
    "            return x0, R\n",
    "        x1 = x0 - m*f(x0)/fp(x0)\n",
    "        #print(\"round {} | sol {} | f(sol) {}\".format(R, x1, f(x1)))\n",
    "        x0, x1 = x1, x0\n",
    "    return x0, M"
   ]
  },
  {
   "cell_type": "code",
   "execution_count": 381,
   "metadata": {},
   "outputs": [],
   "source": [
    "def SOR_test(x0 = x0):\n",
    "    for m in range(1, 5):\n",
    "        M = 20\n",
    "        x, r = SOR_newton(x0, f, fp, m, eps, M) #0.6 -0.6 -0.5\n",
    "        if(r == M): print(\"m = {}, exceed round = {}, sol = {}, f(sol) = {}\".format(m, M, x, f(x)))\n",
    "        else: print(\"m = {}, round = {}, sol = {}, f(sol) = {}\".format(m, r, x, f(x)))\n",
    "        "
   ]
  },
  {
   "cell_type": "code",
   "execution_count": 382,
   "metadata": {},
   "outputs": [
    {
     "name": "stdout",
     "output_type": "stream",
     "text": [
      "m = 1, exceed round = 20, sol = -0.18328791733890556, f(sol) = -8.287814878826794e-14\n",
      "m = 2, round = 9, sol = -0.18326120623737696, f(sol) = -4.996003610813204e-16\n",
      "m = 3, round = 4, sol = -0.1832565199202848, f(sol) = -1.6653345369377348e-16\n",
      "m = 4, round = 11, sol = -0.18325581638868868, f(sol) = -5.551115123125783e-17\n"
     ]
    }
   ],
   "source": [
    "#we can see that F may have 3 same roots by SOR newton's method\n",
    "SOR_test(-0.4) #.32 .35div0"
   ]
  }
 ],
 "metadata": {
  "kernelspec": {
   "display_name": "Python 3",
   "language": "python",
   "name": "python3"
  },
  "language_info": {
   "codemirror_mode": {
    "name": "ipython",
    "version": 3
   },
   "file_extension": ".py",
   "mimetype": "text/x-python",
   "name": "python",
   "nbconvert_exporter": "python",
   "pygments_lexer": "ipython3",
   "version": "3.7.4"
  }
 },
 "nbformat": 4,
 "nbformat_minor": 2
}
