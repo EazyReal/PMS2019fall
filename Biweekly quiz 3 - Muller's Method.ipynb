{
 "cells": [
  {
   "cell_type": "code",
   "execution_count": 131,
   "metadata": {},
   "outputs": [],
   "source": [
    "#Nation Chiao Tung University Apllied Mathematics PMS 2019 fall\n",
    "#Introduction to Practice of Mathematics Software\n",
    "#biweekly quiz 3\n",
    "#author : Maxwill Lin, 0712238\n",
    "import sys\n",
    "import numpy as np\n",
    "from numpy import exp, log\n",
    "from matplotlib import pyplot as plt"
   ]
  },
  {
   "cell_type": "code",
   "execution_count": 132,
   "metadata": {},
   "outputs": [],
   "source": [
    "def f(x):\n",
    "    return x*x*x*x - 3*x*x*x + x*x + x + 1\n",
    "def df(x):\n",
    "    return 4*x*x*x - 9*x*x + 2*x + 1\n",
    "\n",
    "eps = 1e-5"
   ]
  },
  {
   "cell_type": "code",
   "execution_count": 133,
   "metadata": {},
   "outputs": [
    {
     "data": {
      "image/png": "[encoded data removed]",
      "text/plain": [
       "<Figure size 432x288 with 1 Axes>"
      ]
     },
     "metadata": {
      "needs_background": "light"
     },
     "output_type": "display_data"
    }
   ],
   "source": [
    "\n",
    "x = np.arange(1.3, 2.4, (2.4-1.3)/10000)\n",
    "y = f(x)\n",
    "y2 = np.zeros(len(x))\n",
    "plt.title(\"y = f(x)\") \n",
    "plt.xlabel(\"x axis\") \n",
    "plt.ylabel(\"y axis\") \n",
    "plt.plot(x,y)\n",
    "plt.plot(x,y2)\n",
    "plt.show()"
   ]
  },
  {
   "cell_type": "code",
   "execution_count": 134,
   "metadata": {},
   "outputs": [],
   "source": [
    "def Muller(f, x0, x1, x2, eps, M = 50):\n",
    "    print(\"solving f with Muller's Method\\n\".format(f))\n",
    "    x = [x0, x1, x2]\n",
    "    x.sort()\n",
    "    for R in range(M):\n",
    "        fx = [f(xi) for xi in x]\n",
    "        h1 = x[1]-x[0]\n",
    "        h2 = x[2]-x[1]\n",
    "        d1 = (fx[1]-fx[0])/h1\n",
    "        d2 = (fx[2]-fx[1])/h2\n",
    "        d = (d2-d1)/(h1+h2)\n",
    "        b = d2+h2*d\n",
    "        \n",
    "        D = np.sqrt(b*b-4*d*fx[2])\n",
    "        if abs(b-D) < abs(b+D):\n",
    "            E = b+D\n",
    "        else:\n",
    "            E = b-D\n",
    "        \n",
    "        h = (-2)*fx[2]/E\n",
    "        p = x[2]+h\n",
    "        print(\"round {} | sol {} | f(sol) {}\".format(R+1, p, f(p)))\n",
    "        if abs(h) < eps:\n",
    "            print(\"converge in {} steps\".format(R+1))\n",
    "            return p\n",
    "        x = [x1, x2, p]\n",
    "    print(\"no converge in {} steps, return -1\".format(R+1))\n",
    "    return -1\n",
    "        "
   ]
  },
  {
   "cell_type": "code",
   "execution_count": 135,
   "metadata": {},
   "outputs": [],
   "source": [
    "#Newton's method\n",
    "def Newton(x0, f, fp, eps, M = 50):\n",
    "    print(\"solve f with Newton's Method\\n\") #.format(f.__doc__)\n",
    "    x1 = x0 + eps + 1000\n",
    "    for R in range(M):\n",
    "        x1 = x0 - f(x0)/fp(x0)\n",
    "        print(\"round {} | sol {} | f(sol) {}\".format(R+1, x1, f(x1)))\n",
    "        if(abs(x1-x0) < eps):\n",
    "            print(\"converge within {} rounds\".format(R+1))\n",
    "            return x1\n",
    "        x0, x1 = x1, x0\n",
    "\n",
    "    print(\"doesn't converge to solution within eps = {}, MaxIter = {}\".format(eps, R+1))\n",
    "    \n",
    "    return x0, R"
   ]
  },
  {
   "cell_type": "code",
   "execution_count": 136,
   "metadata": {},
   "outputs": [
    {
     "name": "stdout",
     "output_type": "stream",
     "text": [
      "solving f with Muller's Method\n",
      "\n",
      "round 1 | sol 1.3783900315617055 | f(sol) 0.03153964790220232\n",
      "round 2 | sol 1.388973852747255 | f(sol) 0.001194867323801141\n",
      "round 3 | sol 1.3893747545133153 | f(sol) 4.566033431729899e-05\n",
      "round 4 | sol 1.3893900744328864 | f(sol) 1.7454310274889195e-06\n",
      "round 5 | sol 1.389390660058494 | f(sol) 6.672242292005137e-08\n",
      "converge in 5 steps\n"
     ]
    },
    {
     "data": {
      "text/plain": [
       "1.389390660058494"
      ]
     },
     "execution_count": 136,
     "metadata": {},
     "output_type": "execute_result"
    }
   ],
   "source": [
    "x0 = 1.0\n",
    "x1 = 1.1\n",
    "x2 = 1.2\n",
    "Muller(f, x0, x1, x2, eps)"
   ]
  },
  {
   "cell_type": "code",
   "execution_count": 137,
   "metadata": {},
   "outputs": [
    {
     "name": "stdout",
     "output_type": "stream",
     "text": [
      "solving f with Muller's Method\n",
      "\n",
      "round 1 | sol 2.293393970916912 | f(sol) 0.029640693932468487\n",
      "round 2 | sol 2.288722993497999 | f(sol) -0.0004600472372175979\n",
      "round 3 | sol 2.2887961196907742 | f(sol) 7.2053331336974225e-06\n",
      "round 4 | sol 2.288794974531839 | f(sol) -1.1283503154047025e-07\n",
      "converge in 4 steps\n"
     ]
    },
    {
     "data": {
      "text/plain": [
       "2.288794974531839"
      ]
     },
     "execution_count": 137,
     "metadata": {},
     "output_type": "execute_result"
    }
   ],
   "source": [
    "x0 = 2.0\n",
    "x1 = 2.1\n",
    "x2 = 2.2\n",
    "Muller(f, x0, x1, x2, eps)"
   ]
  },
  {
   "cell_type": "code",
   "execution_count": 138,
   "metadata": {},
   "outputs": [
    {
     "name": "stdout",
     "output_type": "stream",
     "text": [
      "solve f with Newton's Method\n",
      "\n",
      "round 1 | sol 1.5 | f(sol) -0.3125\n",
      "round 2 | sol 1.3863636363636365 | f(sol) 0.008677739310839927\n",
      "round 3 | sol 1.3893904836850839 | f(sol) 5.723006506475059e-07\n",
      "round 4 | sol 1.3893906833349323 | f(sol) 4.884981308350689e-15\n",
      "converge within 4 rounds\n"
     ]
    },
    {
     "data": {
      "text/plain": [
       "1.3893906833349323"
      ]
     },
     "execution_count": 138,
     "metadata": {},
     "output_type": "execute_result"
    }
   ],
   "source": [
    "x0 = 1.0\n",
    "Newton(x0, f, df, eps, M = 50)"
   ]
  },
  {
   "cell_type": "code",
   "execution_count": 139,
   "metadata": {},
   "outputs": [
    {
     "name": "stdout",
     "output_type": "stream",
     "text": [
      "solve f with Newton's Method\n",
      "\n",
      "round 1 | sol 3.0 | f(sol) 13.0\n",
      "round 2 | sol 2.6176470588235294 | f(sol) 3.6117196573316828\n",
      "round 3 | sol 2.3962304962788585 | f(sol) 0.8309074801032037\n",
      "round 4 | sol 2.3054312220601156 | f(sol) 0.10961722865910417\n",
      "round 5 | sol 2.28928571461565 | f(sol) 0.0031388181329594644\n",
      "round 6 | sol 2.28879543747511 | f(sol) 2.8456123244424703e-06\n",
      "round 7 | sol 2.288794992188854 | f(sol) 2.3492319201068312e-12\n",
      "converge within 7 rounds\n"
     ]
    },
    {
     "data": {
      "text/plain": [
       "2.288794992188854"
      ]
     },
     "execution_count": 139,
     "metadata": {},
     "output_type": "execute_result"
    }
   ],
   "source": [
    "x0 = 2.0\n",
    "Newton(x0, f, df, eps, M = 50)"
   ]
  },
  {
   "cell_type": "code",
   "execution_count": 143,
   "metadata": {},
   "outputs": [],
   "source": [
    "#we can see that muller's method performed similarly to Newton's method in this case\n",
    "#withput having to compute df/dx"
   ]
  },
  {
   "cell_type": "code",
   "execution_count": null,
   "metadata": {},
   "outputs": [],
   "source": []
  }
 ],
 "metadata": {
  "kernelspec": {
   "display_name": "Python 3",
   "language": "python",
   "name": "python3"
  },
  "language_info": {
   "codemirror_mode": {
    "name": "ipython",
    "version": 3
   },
   "file_extension": ".py",
   "mimetype": "text/x-python",
   "name": "python",
   "nbconvert_exporter": "python",
   "pygments_lexer": "ipython3",
   "version": "3.7.4"
  }
 },
 "nbformat": 4,
 "nbformat_minor": 2
}
