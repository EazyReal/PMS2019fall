{
 "cells": [
  {
   "cell_type": "code",
   "execution_count": 119,
   "metadata": {},
   "outputs": [],
   "source": [
    "#use different method to find a certain eigenvalue and eigenvector pair\n",
    "#(a)A = LU\n",
    "#(b)modified LU decomposition and solve Ax=b\n",
    "#(c)A = LLt, cholesky algorithm\n",
    "#(d)modidy cholesky algorithm and solve Ax=b\n",
    "\n",
    "#usage = for biweekly quiz 5 for class PMS.CM Chang @ NCTU AM 11\n",
    "#Biweekly quiz 5 Matrix Decomposition\n",
    "#Pactice of Mathematics Software\n",
    "\n",
    "#author = maxwill lin =  yt lin\n",
    "#school number = 0712238@NCTU\n",
    "\n",
    "#created 2019.12.24\n",
    "#modified 2019.12.27\n",
    "\n",
    "#show ans by printing out"
   ]
  },
  {
   "cell_type": "code",
   "execution_count": 122,
   "metadata": {},
   "outputs": [
    {
     "name": "stdout",
     "output_type": "stream",
     "text": [
      "[[ 4. -1.  0.  0. -1.  0.  0.  0.  0.  0.  0.  0.]\n",
      " [-1.  4. -1.  0.  0.  0.  0.  0.  0.  0.  0.  0.]\n",
      " [ 0. -1.  4. -1.  0.  0.  0.  0.  0.  0.  0.  0.]\n",
      " [ 0.  0. -1.  4.  0. -1.  0.  0.  0.  0.  0.  0.]\n",
      " [-1.  0.  0.  0.  4.  0. -1.  0.  0.  0.  0.  0.]\n",
      " [ 0.  0.  0. -1.  0.  4.  0. -1.  0.  0.  0.  0.]\n",
      " [ 0.  0.  0.  0. -1.  0.  4.  0. -1.  0.  0.  0.]\n",
      " [ 0.  0.  0.  0.  0. -1.  0.  4.  0.  0.  0. -1.]\n",
      " [ 0.  0.  0.  0.  0.  0. -1.  0.  4. -1.  0.  0.]\n",
      " [ 0.  0.  0.  0.  0.  0.  0.  0. -1.  4. -1.  0.]\n",
      " [ 0.  0.  0.  0.  0.  0.  0.  0.  0. -1.  4. -1.]\n",
      " [ 0.  0.  0.  0.  0.  0.  0. -1.  0.  0. -1.  4.]]\n",
      "[220. 110. 110. 220. 110. 110. 110. 110. 220. 110. 110. 220.]\n"
     ]
    }
   ],
   "source": [
    "import numpy as np\n",
    "import scipy.linalg\n",
    "np.set_printoptions(suppress=True)\n",
    "\n",
    "A = np.eye(12)*4\n",
    "for i in range(0,3):\n",
    "    A[i][i+1] = A[i+1][i] = -1\n",
    "for i in range(0,3):\n",
    "    A[11-i][10-i] = A[10-i][11-i] = -1\n",
    "for i in range(0,4):\n",
    "    A[5+i][3+i] = A[3+i][5+i] = -1 \n",
    "A[4][0] = A[0][4] = -1\n",
    "A[7][11] = A[11][7] = -1\n",
    "print(A)\n",
    "b = np.asarray([220., 110., 110., 220., 110., 110., 110., 110., 220., 110., 110., 220.]).T\n",
    "print(b)\n",
    "\n",
    "eps = 1e-5\n",
    "x0 = np.zeros(A.shape[0])"
   ]
  },
  {
   "cell_type": "code",
   "execution_count": 10,
   "metadata": {},
   "outputs": [
    {
     "name": "stdout",
     "output_type": "stream",
     "text": [
      "direct solution:\n",
      "[88. 66. 66. 88. 66. 66. 66. 66. 88. 66. 66. 88.]\n"
     ]
    }
   ],
   "source": [
    "#direct solve\n",
    "Ainv = np.linalg.inv(A)\n",
    "print(\"direct solution:\")\n",
    "print(np.dot(Ainv, b))"
   ]
  },
  {
   "cell_type": "code",
   "execution_count": 121,
   "metadata": {},
   "outputs": [
    {
     "name": "stdout",
     "output_type": "stream",
     "text": [
      "check for scipy LU library result\n",
      "[[ 4.         -1.          0.          0.         -1.          0.\n",
      "   0.          0.          0.          0.          0.          0.        ]\n",
      " [-0.25        3.75       -1.          0.         -0.25        0.\n",
      "   0.          0.          0.          0.          0.          0.        ]\n",
      " [ 0.         -0.26666667  3.73333333 -1.         -0.06666667  0.\n",
      "   0.          0.          0.          0.          0.          0.        ]\n",
      " [ 0.          0.         -0.26785714  3.73214286 -0.01785714 -1.\n",
      "   0.          0.          0.          0.          0.          0.        ]\n",
      " [-0.25       -0.06666667 -0.01785714 -0.00478469  3.73205742 -0.00478469\n",
      "  -1.          0.          0.          0.          0.          0.        ]\n",
      " [ 0.          0.          0.         -0.26794258 -0.00128205  3.73205128\n",
      "  -0.00128205 -1.          0.          0.          0.          0.        ]\n",
      " [ 0.          0.          0.          0.         -0.26794872 -0.00034352\n",
      "   3.73205084 -0.00034352 -1.          0.          0.          0.        ]\n",
      " [ 0.          0.          0.          0.          0.         -0.26794916\n",
      "  -0.00009205  3.73205081 -0.00009205  0.          0.         -1.        ]\n",
      " [ 0.          0.          0.          0.          0.          0.\n",
      "  -0.26794919 -0.00002466  3.73205081 -1.          0.         -0.00002466]\n",
      " [ 0.          0.          0.          0.          0.          0.\n",
      "   0.          0.         -0.26794919  3.73205081 -1.         -0.00000661]\n",
      " [ 0.          0.          0.          0.          0.          0.\n",
      "   0.          0.          0.         -0.26794919  3.73205081 -1.00000177]\n",
      " [ 0.          0.          0.          0.          0.          0.\n",
      "   0.         -0.26794919 -0.00000661 -0.00000177 -0.26794967  3.46410067]]\n"
     ]
    },
    {
     "data": {
      "text/plain": [
       "array([88., 66., 66., 88., 66., 66., 66., 66., 88., 66., 66., 88.])"
      ]
     },
     "execution_count": 121,
     "metadata": {},
     "output_type": "execute_result"
    }
   ],
   "source": [
    "print(\"check for scipy LU library result\")\n",
    "LU0,P0 =  scipy.linalg.lu_factor(A) #store in one matrix\n",
    "print(LU0) \n",
    "#U0 = np.triu(LU0) \n",
    "#L0 = np.tril(LU0, -1) \n",
    "scipy.linalg.lu_solve((LU0, P0), b)"
   ]
  },
  {
   "cell_type": "code",
   "execution_count": 117,
   "metadata": {},
   "outputs": [],
   "source": [
    "def LU_decomp(A):\n",
    "    LU = np.copy(A).astype(float)\n",
    "    n  = len(A)\n",
    "    for j in range(n-1):\n",
    "        for i in range(j+1,n):\n",
    "            LU[i][j] /= LU[j][j]\n",
    "            for k in range(j+1,n):\n",
    "                LU[i][k] -= LU[i][j]*LU[j][k]\n",
    "    return LU\n",
    "\n",
    "def LU_forwardsub(L,b): \n",
    "    n = len(L)\n",
    "    y = np.copy(b).astype(float)\n",
    "    for i in range(1,n):\n",
    "        for j in range(i):\n",
    "            y[i] -= L[i][j]*y[j]\n",
    "    return y\n",
    "\n",
    "def LU_backwardsub(U,y):\n",
    "    n = len(U)\n",
    "    x = np.copy(y).astype(float)\n",
    "    for i in range(n-1,-1,-1):\n",
    "        for j in range(i+1,n):\n",
    "            x[i] -= U[i][j]*x[j]\n",
    "        x[i] /= U[i][i]\n",
    "    return x\n",
    "\n",
    "def LU_solve(A,b):\n",
    "    print(\"LU decomposition\")\n",
    "    LU = LU_decomp(A) #store in one matrix\n",
    "    print(LU)\n",
    "    print(\"solve for Ly = b\")\n",
    "    y = LU_forwardsub(LU,b)\n",
    "    print(y)\n",
    "    print(\"solve for Uy = x\")\n",
    "    x = LU_backwardsub(LU,y)\n",
    "    print(x)\n",
    "    return x"
   ]
  },
  {
   "cell_type": "code",
   "execution_count": 118,
   "metadata": {},
   "outputs": [
    {
     "name": "stdout",
     "output_type": "stream",
     "text": [
      "LU decomposition\n",
      "[[ 4.         -1.          0.          0.         -1.          0.\n",
      "   0.          0.          0.          0.          0.          0.        ]\n",
      " [-0.25        3.75       -1.          0.         -0.25        0.\n",
      "   0.          0.          0.          0.          0.          0.        ]\n",
      " [ 0.         -0.26666667  3.73333333 -1.         -0.06666667  0.\n",
      "   0.          0.          0.          0.          0.          0.        ]\n",
      " [ 0.          0.         -0.26785714  3.73214286 -0.01785714 -1.\n",
      "   0.          0.          0.          0.          0.          0.        ]\n",
      " [-0.25       -0.06666667 -0.01785714 -0.00478469  3.73205742 -0.00478469\n",
      "  -1.          0.          0.          0.          0.          0.        ]\n",
      " [ 0.          0.          0.         -0.26794258 -0.00128205  3.73205128\n",
      "  -0.00128205 -1.          0.          0.          0.          0.        ]\n",
      " [ 0.          0.          0.          0.         -0.26794872 -0.00034352\n",
      "   3.73205084 -0.00034352 -1.          0.          0.          0.        ]\n",
      " [ 0.          0.          0.          0.          0.         -0.26794916\n",
      "  -0.00009205  3.73205081 -0.00009205  0.          0.         -1.        ]\n",
      " [ 0.          0.          0.          0.          0.          0.\n",
      "  -0.26794919 -0.00002466  3.73205081 -1.          0.         -0.00002466]\n",
      " [ 0.          0.          0.          0.          0.          0.\n",
      "   0.          0.         -0.26794919  3.73205081 -1.         -0.00000661]\n",
      " [ 0.          0.          0.          0.          0.          0.\n",
      "   0.          0.          0.         -0.26794919  3.73205081 -1.00000177]\n",
      " [ 0.          0.          0.          0.          0.          0.\n",
      "   0.         -0.26794919 -0.00000661 -0.00000177 -0.26794967  3.46410067]]\n",
      "solve for Ly = b\n",
      "[220.         165.         154.         261.25       180.\n",
      " 180.23076923 158.29268293 158.30725331 262.41830065 180.31477174\n",
      " 158.31519747 304.84085862]\n",
      "solve for Uy = x\n",
      "[88. 66. 66. 88. 66. 66. 66. 66. 88. 66. 66. 88.]\n"
     ]
    },
    {
     "data": {
      "text/plain": [
       "array([88., 66., 66., 88., 66., 66., 66., 66., 88., 66., 66., 88.])"
      ]
     },
     "execution_count": 118,
     "metadata": {},
     "output_type": "execute_result"
    }
   ],
   "source": [
    "LU_solve(A,b)"
   ]
  },
  {
   "cell_type": "code",
   "execution_count": 115,
   "metadata": {},
   "outputs": [],
   "source": [
    "def Cholesky_decomp(A):\n",
    "    n = len(A)\n",
    "    L = np.zeros((n,n)).astype(float)\n",
    "    for i in range(n):\n",
    "        for j in range(i+1):\n",
    "            L[i][j] = A[i][j]\n",
    "            for k in range(j):\n",
    "                L[i][j] -= L[i][k]*L[j][k]\n",
    "            if(i == j):\n",
    "                L[i][j] = np.sqrt(L[j][j])\n",
    "            else:\n",
    "                L[i][j] /= L[j][j]\n",
    "    return L\n",
    "\n",
    "def Cholesky_forwardsub(L, b):\n",
    "    y = b.copy()\n",
    "    for i in range(len(b)):\n",
    "        for j in range(i):\n",
    "            y[i] -= L[i][j]*y[j]\n",
    "        y[i] /= L[i][i]\n",
    "    return y\n",
    "            \n",
    "def Cholesky_backwardsub(U, y):\n",
    "    n = len(U)\n",
    "    x = np.copy(y)\n",
    "    for i in range(n-1,-1,-1):\n",
    "        for j in range(i+1,n):\n",
    "            x[i] -= U[j][i]*x[j]\n",
    "        x[i] /= U[i][i]\n",
    "    return x\n",
    "\n",
    "def Cholesky_solve(A,b):\n",
    "    L = Cholesky_decomp(A)\n",
    "    print(\"Cholesky decomposition\\n\", L)\n",
    "    y = Cholesky_forwardsub(L,b)\n",
    "    print(\"Solve for Ly = b\\n\", y)\n",
    "    x = Cholesky_backwardsub(L,y)\n",
    "    print(\"Solve for LTx = y\\n\", x)\n",
    "    return x"
   ]
  },
  {
   "cell_type": "code",
   "execution_count": 116,
   "metadata": {},
   "outputs": [
    {
     "name": "stdout",
     "output_type": "stream",
     "text": [
      "Cholesky decomposition\n",
      " [[ 2.          0.          0.          0.          0.          0.\n",
      "   0.          0.          0.          0.          0.          0.        ]\n",
      " [-0.5         1.93649167  0.          0.          0.          0.\n",
      "   0.          0.          0.          0.          0.          0.        ]\n",
      " [ 0.         -0.51639778  1.93218357  0.          0.          0.\n",
      "   0.          0.          0.          0.          0.          0.        ]\n",
      " [ 0.          0.         -0.51754917  1.93187548  0.          0.\n",
      "   0.          0.          0.          0.          0.          0.        ]\n",
      " [-0.5        -0.12909944 -0.03450328 -0.00924342  1.93185336  0.\n",
      "   0.          0.          0.          0.          0.          0.        ]\n",
      " [ 0.          0.          0.         -0.51763171 -0.00247674  1.93185178\n",
      "   0.          0.          0.          0.          0.          0.        ]\n",
      " [ 0.          0.          0.          0.         -0.51763763 -0.00066364\n",
      "   1.93185166  0.          0.          0.          0.          0.        ]\n",
      " [ 0.          0.          0.          0.          0.         -0.51763806\n",
      "  -0.00017782  1.93185165  0.          0.          0.          0.        ]\n",
      " [ 0.          0.          0.          0.          0.          0.\n",
      "  -0.51763809 -0.00004765  1.93185165  0.          0.          0.        ]\n",
      " [ 0.          0.          0.          0.          0.          0.\n",
      "   0.          0.         -0.51763809  1.93185165  0.          0.        ]\n",
      " [ 0.          0.          0.          0.          0.          0.\n",
      "   0.          0.          0.         -0.51763809  1.93185165  0.        ]\n",
      " [ 0.          0.          0.          0.          0.          0.\n",
      "   0.         -0.51763809 -0.00001277 -0.00000342 -0.51763901  1.86120946]]\n",
      "Solve for Ly = b\n",
      " [110.          85.20563362  79.7025721  135.23128336  93.17477374\n",
      "  93.29430525  81.93832171  81.94586424 135.83770798  93.33779408\n",
      "  81.94997647 163.78643277]\n",
      "Solve for LTx = y\n",
      " [88. 66. 66. 88. 66. 66. 66. 66. 88. 66. 66. 88.]\n"
     ]
    },
    {
     "data": {
      "text/plain": [
       "array([88., 66., 66., 88., 66., 66., 66., 66., 88., 66., 66., 88.])"
      ]
     },
     "execution_count": 116,
     "metadata": {},
     "output_type": "execute_result"
    }
   ],
   "source": [
    "Cholesky_solve(A,b)"
   ]
  },
  {
   "cell_type": "code",
   "execution_count": 120,
   "metadata": {},
   "outputs": [
    {
     "name": "stdout",
     "output_type": "stream",
     "text": [
      "check for np library result\n",
      "[[ 2.          0.          0.          0.          0.          0.\n",
      "   0.          0.          0.          0.          0.          0.        ]\n",
      " [-0.5         1.93649167  0.          0.          0.          0.\n",
      "   0.          0.          0.          0.          0.          0.        ]\n",
      " [ 0.         -0.51639778  1.93218357  0.          0.          0.\n",
      "   0.          0.          0.          0.          0.          0.        ]\n",
      " [ 0.          0.         -0.51754917  1.93187548  0.          0.\n",
      "   0.          0.          0.          0.          0.          0.        ]\n",
      " [-0.5        -0.12909944 -0.03450328 -0.00924342  1.93185336  0.\n",
      "   0.          0.          0.          0.          0.          0.        ]\n",
      " [ 0.          0.          0.         -0.51763171 -0.00247674  1.93185178\n",
      "   0.          0.          0.          0.          0.          0.        ]\n",
      " [ 0.          0.          0.          0.         -0.51763763 -0.00066364\n",
      "   1.93185166  0.          0.          0.          0.          0.        ]\n",
      " [ 0.          0.          0.          0.          0.         -0.51763806\n",
      "  -0.00017782  1.93185165  0.          0.          0.          0.        ]\n",
      " [ 0.          0.          0.          0.          0.          0.\n",
      "  -0.51763809 -0.00004765  1.93185165  0.          0.          0.        ]\n",
      " [ 0.          0.          0.          0.          0.          0.\n",
      "   0.          0.         -0.51763809  1.93185165  0.          0.        ]\n",
      " [ 0.          0.          0.          0.          0.          0.\n",
      "   0.          0.          0.         -0.51763809  1.93185165  0.        ]\n",
      " [ 0.          0.          0.          0.          0.          0.\n",
      "   0.         -0.51763809 -0.00001277 -0.00000342 -0.51763901  1.86120946]]\n",
      "[110.          85.20563362  79.7025721  135.23128336  93.17477374\n",
      "  93.29430525  81.93832171  81.94586424 135.83770798  93.33779408\n",
      "  81.94997647 163.78643277] \n",
      " [88. 66. 66. 88. 66. 66. 66. 66. 88. 66. 66. 88.]\n",
      "##############################\n",
      "[[ 2.          0.          0.          0.          0.          0.\n",
      "   0.          0.          0.          0.          0.          0.        ]\n",
      " [-0.5         1.93649167  0.          0.          0.          0.\n",
      "   0.          0.          0.          0.          0.          0.        ]\n",
      " [ 0.         -0.51639778  1.93218357  0.          0.          0.\n",
      "   0.          0.          0.          0.          0.          0.        ]\n",
      " [ 0.          0.         -0.51754917  1.93187548  0.          0.\n",
      "   0.          0.          0.          0.          0.          0.        ]\n",
      " [-0.5        -0.12909944 -0.03450328 -0.00924342  1.93185336  0.\n",
      "   0.          0.          0.          0.          0.          0.        ]\n",
      " [ 0.          0.          0.         -0.51763171 -0.00247674  1.93185178\n",
      "   0.          0.          0.          0.          0.          0.        ]\n",
      " [ 0.          0.          0.          0.         -0.51763763 -0.00066364\n",
      "   1.93185166  0.          0.          0.          0.          0.        ]\n",
      " [ 0.          0.          0.          0.          0.         -0.51763806\n",
      "  -0.00017782  1.93185165  0.          0.          0.          0.        ]\n",
      " [ 0.          0.          0.          0.          0.          0.\n",
      "  -0.51763809 -0.00004765  1.93185165  0.          0.          0.        ]\n",
      " [ 0.          0.          0.          0.          0.          0.\n",
      "   0.          0.         -0.51763809  1.93185165  0.          0.        ]\n",
      " [ 0.          0.          0.          0.          0.          0.\n",
      "   0.          0.          0.         -0.51763809  1.93185165  0.        ]\n",
      " [ 0.          0.          0.          0.          0.          0.\n",
      "   0.         -0.51763809 -0.00001277 -0.00000342 -0.51763901  1.86120946]]\n"
     ]
    }
   ],
   "source": [
    "print(\"check for np library result\")\n",
    "Ach = np.linalg.cholesky(A)\n",
    "print(Ach)\n",
    "y = np.linalg.solve(Ach, b)\n",
    "x = np.linalg.solve(Ach.T, y)\n",
    "print(y, '\\n', x)\n",
    "print(\"##############################\")\n",
    "print(Cholesky_decomp(A))"
   ]
  },
  {
   "cell_type": "code",
   "execution_count": null,
   "metadata": {},
   "outputs": [],
   "source": []
  }
 ],
 "metadata": {
  "kernelspec": {
   "display_name": "Python 3",
   "language": "python",
   "name": "python3"
  },
  "language_info": {
   "codemirror_mode": {
    "name": "ipython",
    "version": 3
   },
   "file_extension": ".py",
   "mimetype": "text/x-python",
   "name": "python",
   "nbconvert_exporter": "python",
   "pygments_lexer": "ipython3",
   "version": "3.7.4"
  }
 },
 "nbformat": 4,
 "nbformat_minor": 2
}
