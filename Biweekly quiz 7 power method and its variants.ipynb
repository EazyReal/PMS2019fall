{
 "cells": [
  {
   "cell_type": "code",
   "execution_count": 97,
   "metadata": {},
   "outputs": [],
   "source": [
    "#use different method to find a certain eigenvalue and eigenvector pair\n",
    "#(a)Power Method (max eigenvalue)\n",
    "#(b)Symmetric Power Method (max eigenvalue)\n",
    "#(c)Inverse Power Method (min eigenvalue)\n",
    "#(d)Inverse Power Method closest to 2.5\n",
    "#(e)Varaiant Inverse Power Method closest to 2.5\n",
    "\n",
    "#usage = for biweekly quiz 7 for class PMS.CM Chang @ NCTU AM 11\n",
    "#Biweekly quiz 7 power method and its variants\n",
    "#Pactice of Mathematics Software\n",
    "\n",
    "#author = maxwill lin =  yt lin\n",
    "#school number = 0712238@NCTU\n",
    "\n",
    "#created 2019.12.24\n",
    "#modified 2019.12.27 err graph + variant inverse shifted\n",
    "\n",
    "#show ans by printing out"
   ]
  },
  {
   "cell_type": "code",
   "execution_count": 57,
   "metadata": {},
   "outputs": [],
   "source": [
    "import numpy as np\n",
    "import scipy\n",
    "import scipy.linalg\n",
    "import matplotlib.pyplot as plt"
   ]
  },
  {
   "cell_type": "code",
   "execution_count": 4,
   "metadata": {},
   "outputs": [
    {
     "name": "stdout",
     "output_type": "stream",
     "text": [
      "[[ 4. -1.  0.  0. -1.  0.  0.  0.  0.  0.  0.  0.]\n",
      " [-1.  4. -1.  0.  0.  0.  0.  0.  0.  0.  0.  0.]\n",
      " [ 0. -1.  4. -1.  0.  0.  0.  0.  0.  0.  0.  0.]\n",
      " [ 0.  0. -1.  4.  0. -1.  0.  0.  0.  0.  0.  0.]\n",
      " [-1.  0.  0.  0.  4.  0. -1.  0.  0.  0.  0.  0.]\n",
      " [ 0.  0.  0. -1.  0.  4.  0. -1.  0.  0.  0.  0.]\n",
      " [ 0.  0.  0.  0. -1.  0.  4.  0. -1.  0.  0.  0.]\n",
      " [ 0.  0.  0.  0.  0. -1.  0.  4.  0.  0.  0. -1.]\n",
      " [ 0.  0.  0.  0.  0.  0. -1.  0.  4. -1.  0.  0.]\n",
      " [ 0.  0.  0.  0.  0.  0.  0.  0. -1.  4. -1.  0.]\n",
      " [ 0.  0.  0.  0.  0.  0.  0.  0.  0. -1.  4. -1.]\n",
      " [ 0.  0.  0.  0.  0.  0.  0. -1.  0.  0. -1.  4.]]\n"
     ]
    }
   ],
   "source": [
    "A = np.eye(12)*4\n",
    "for i in range(0,3):\n",
    "    A[i][i+1] = A[i+1][i] = -1\n",
    "for i in range(0,3):\n",
    "    A[11-i][10-i] = A[10-i][11-i] = -1\n",
    "for i in range(0,4):\n",
    "    A[5+i][3+i] = A[3+i][5+i] = -1 \n",
    "A[4][0] = A[0][4] = -1\n",
    "A[7][11] = A[11][7] = -1\n",
    "print(A)\n",
    "b = np.asarray([220, 110, 110, 220, 110, 110, 110, 110, 220, 110, 110, 220]).T\n",
    "\n",
    "eps = 1e-5\n",
    "x0 = np.zeros(A.shape[0])"
   ]
  },
  {
   "cell_type": "code",
   "execution_count": 78,
   "metadata": {},
   "outputs": [],
   "source": [
    "def PowerIteration(A, v=None, eps=10e-10, max_iter=1500):\n",
    "    rec = []\n",
    "    if v == None:\n",
    "        v = np.random.randn(A.shape[0])\n",
    "        v /= np.linalg.norm(v)\n",
    "    for t in range(max_iter):\n",
    "        y = np.dot(A, v)\n",
    "        if(np.linalg.norm(y) < eps):\n",
    "            print(\"A has eigencalue 0, try anothor x0\")\n",
    "            return 0, y\n",
    "        #Rayleigh quotient\n",
    "        lamb = v.dot(np.dot(A,v))/v.dot(v)\n",
    "        err = np.linalg.norm(abs(v)-abs(y/np.linalg.norm(y)))\n",
    "        rec.append(err)\n",
    "        if err < eps:\n",
    "            print(\"Converge at {} iteration(with diff), v = \".format(t), '\\n',v)\n",
    "            return lamb, v, rec\n",
    "        v = y/np.linalg.norm(y)\n",
    "    print(\"Use Max iteration {} still dont converge, v = \".format(max_iter), '\\n',v)\n",
    "    return lamb, v, rec"
   ]
  },
  {
   "cell_type": "code",
   "execution_count": 80,
   "metadata": {},
   "outputs": [
    {
     "name": "stdout",
     "output_type": "stream",
     "text": [
      "Converge at 479 iteration(with diff), v =  \n",
      " [-0.28867513  0.28867513 -0.28867513  0.28867513  0.28867513 -0.28867513\n",
      " -0.28867513  0.28867514  0.28867513 -0.28867514  0.28867514 -0.28867514]\n",
      "eigenvalue = 6.0, \n",
      "eigenvector = [-0.28867513  0.28867513 -0.28867513  0.28867513  0.28867513 -0.28867513\n",
      " -0.28867513  0.28867514  0.28867513 -0.28867514  0.28867514 -0.28867514]\n"
     ]
    },
    {
     "data": {
      "image/png": "[encoded data removed]",
      "text/plain": [
       "<Figure size 432x288 with 1 Axes>"
      ]
     },
     "metadata": {
      "needs_background": "light"
     },
     "output_type": "display_data"
    }
   ],
   "source": [
    "lamb, v, rec = PowerIteration(A, v=None, eps=1e-10, max_iter=1500)\n",
    "print(\"eigenvalue = {}, \\neigenvector = {}\".format(lamb, v))\n",
    "plt.figure()\n",
    "plt.plot(rec)\n",
    "plt.show()"
   ]
  },
  {
   "cell_type": "code",
   "execution_count": 75,
   "metadata": {},
   "outputs": [],
   "source": [
    "#A should be symmetric\n",
    "def SymmetricPowerIteration(A, v=None, eps=10e-10, max_iter=500):\n",
    "    assert(A.T.all() == A.all())\n",
    "    rec = []\n",
    "    if v == None:\n",
    "        v = np.random.randn(A.shape[0])\n",
    "        v /= np.linalg.norm(v)\n",
    "        #print(\"x0 = \\n\", v)\n",
    "    for t in range(max_iter):\n",
    "        y = np.dot(A, v)\n",
    "        #use this mu, no Rayleigh quotient\n",
    "        mu = np.dot(v.T, y)\n",
    "        if(np.linalg.norm(y) < eps):\n",
    "            print(\"A has eigencalue 0, try anothor x0\")\n",
    "            return 0, y\n",
    "        err = np.linalg.norm(abs(v)-abs(y/np.linalg.norm(y)))\n",
    "        rec.append(err)\n",
    "        if err < eps:\n",
    "            print(\"Converge at {} iteration(with diff), v = \".format(t), '\\n',v)\n",
    "            return mu, v, rec\n",
    "        v = y/np.linalg.norm(y)\n",
    "        #print(\"{}\\n\".format(mu), y)\n",
    "    print(\"Use Max iteration {} still dont converge, v = \".format(max_iter), '\\n',v)\n",
    "    return mu, v, rec"
   ]
  },
  {
   "cell_type": "code",
   "execution_count": 76,
   "metadata": {},
   "outputs": [
    {
     "name": "stdout",
     "output_type": "stream",
     "text": [
      "Converge at 401 iteration(with diff), v =  \n",
      " [-0.28867514  0.28867514 -0.28867513  0.28867513  0.28867514 -0.28867513\n",
      " -0.28867514  0.28867513  0.28867514 -0.28867514  0.28867513 -0.28867513]\n",
      "eigenvalue = 6.000000000000002, \n",
      "eigenvector = [-0.28867514  0.28867514 -0.28867513  0.28867513  0.28867514 -0.28867513\n",
      " -0.28867514  0.28867513  0.28867514 -0.28867514  0.28867513 -0.28867513]\n"
     ]
    },
    {
     "data": {
      "image/png": "[encoded data removed]",
      "text/plain": [
       "<Figure size 432x288 with 1 Axes>"
      ]
     },
     "metadata": {
      "needs_background": "light"
     },
     "output_type": "display_data"
    }
   ],
   "source": [
    "lamb, v, rec = SymmetricPowerIteration(A, v=None, eps=10e-10, max_iter=500)\n",
    "print(\"eigenvalue = {}, \\neigenvector = {}\".format(lamb, v))\n",
    "plt.figure()\n",
    "plt.plot(rec)\n",
    "plt.show()"
   ]
  },
  {
   "cell_type": "code",
   "execution_count": 72,
   "metadata": {},
   "outputs": [],
   "source": [
    "def InversePowerIteration(A, v=None, eps=10e-10, max_iter=500):\n",
    "    rec = []\n",
    "    if v == None:\n",
    "        v = np.random.randn(A.shape[0])\n",
    "        v /= np.linalg.norm(v)\n",
    "    lu, piv = scipy.linalg.lu_factor(A) # compute LU factorization of A\n",
    "    for t in range(max_iter):\n",
    "        y = scipy.linalg.lu_solve((lu, piv), v) #cuse LU fast compute A-1v\n",
    "        if(np.linalg.norm(y) < eps):\n",
    "            print(\"A has eigencalue 0, try anothor x0\")\n",
    "            return 0, v\n",
    "        lamb = v.dot(np.dot(A,v))/v.dot(v)\n",
    "        err = np.linalg.norm(abs(v)-abs(y/np.linalg.norm(y)))\n",
    "        rec.append(err)\n",
    "        #print(\"at iteration {}, diff of vk+1 and vk is {}\".format(t, err))\n",
    "        if err < eps:\n",
    "            print(\"Converge at {} iteration(with diff), v = \".format(t), '\\n',v)\n",
    "            return lamb, v, rec\n",
    "        v = y/np.linalg.norm(y)\n",
    "    print(\"Use Max iteration {} still dont converge, v = \".format(max_iter), '\\n',v)\n",
    "    return lamb, v, rec"
   ]
  },
  {
   "cell_type": "code",
   "execution_count": 73,
   "metadata": {},
   "outputs": [
    {
     "name": "stdout",
     "output_type": "stream",
     "text": [
      "Converge at 29 iteration(with diff), v =  \n",
      " [-0.22358506 -0.36441997 -0.40760884 -0.34157925 -0.02284072 -0.18402378\n",
      "  0.18402378  0.02284072  0.34157925  0.40760884  0.36441997  0.22358506]\n",
      "eigenvalue = 2.267949192431123, \n",
      "eigenvector = [-0.22358506 -0.36441997 -0.40760884 -0.34157925 -0.02284072 -0.18402378\n",
      "  0.18402378  0.02284072  0.34157925  0.40760884  0.36441997  0.22358506]\n"
     ]
    },
    {
     "data": {
      "image/png": "[encoded data removed]",
      "text/plain": [
       "<Figure size 432x288 with 1 Axes>"
      ]
     },
     "metadata": {
      "needs_background": "light"
     },
     "output_type": "display_data"
    }
   ],
   "source": [
    "lamb, v, rec = ShiftedInversePowerIteration(A, mu=2.5)\n",
    "print(\"eigenvalue = {}, \\neigenvector = {}\".format(lamb, v))\n",
    "plt.figure()\n",
    "plt.plot(rec)\n",
    "plt.show()"
   ]
  },
  {
   "cell_type": "code",
   "execution_count": 70,
   "metadata": {},
   "outputs": [],
   "source": [
    "def ShiftedInversePowerIteration(A, mu, eps=10e-10, max_iter=500):\n",
    "    rec = []\n",
    "    I = np.identity(A.shape[0])\n",
    "    v = np.random.randn(A.shape[0])\n",
    "    v /= np.linalg.norm(v) \n",
    "    lu, piv = scipy.linalg.lu_factor(A - mu*I) # compute LU factorization of (A - mu*I)\n",
    "    for t in range(max_iter):\n",
    "        y = scipy.linalg.lu_solve((lu, piv), v) #fast compute (A - mu*I)inv*v with LU decomposition\n",
    "        if(np.linalg.norm(y) < eps):\n",
    "            print(\"A has eigencalue 0, try anothor x0\")\n",
    "            return 0, v\n",
    "        lamb = v.dot(np.dot(A,v))/v.dot(v)\n",
    "        err = np.linalg.norm(abs(v)-abs(y/np.linalg.norm(y)))\n",
    "        rec.append(err)\n",
    "        #print(\"at iteration {}, diff of vk+1 and vk is {}\".format(t, err))\n",
    "        if err < eps:\n",
    "            print(\"Converge at {} iteration(with diff), v = \".format(t), '\\n',v)\n",
    "            return lamb, v, rec\n",
    "        v = y/np.linalg.norm(y)\n",
    "    print(\"Use Max iteration {} still dont converge, v = \".format(max_iter), '\\n',v)\n",
    "    return lamb, v, rec"
   ]
  },
  {
   "cell_type": "code",
   "execution_count": 71,
   "metadata": {},
   "outputs": [
    {
     "name": "stdout",
     "output_type": "stream",
     "text": [
      "Converge at 28 iteration(with diff), v =  \n",
      " [ 0.34249526  0.18551992 -0.02116534 -0.22217935  0.40769927 -0.36366059\n",
      "  0.36366059 -0.40769927  0.22217935  0.02116534 -0.18551992 -0.34249526]\n",
      "eigenvalue = 2.2679491924311224, \n",
      "eigenvector = [ 0.34249526  0.18551992 -0.02116534 -0.22217935  0.40769927 -0.36366059\n",
      "  0.36366059 -0.40769927  0.22217935  0.02116534 -0.18551992 -0.34249526]\n"
     ]
    },
    {
     "data": {
      "image/png": "[encoded data removed]",
      "text/plain": [
       "<Figure size 432x288 with 1 Axes>"
      ]
     },
     "metadata": {
      "needs_background": "light"
     },
     "output_type": "display_data"
    }
   ],
   "source": [
    "lamb, v, rec = ShiftedInversePowerIteration(A, mu=2.5)\n",
    "print(\"eigenvalue = {}, \\neigenvector = {}\".format(lamb, v))\n",
    "plt.figure()\n",
    "plt.plot(rec)\n",
    "plt.show()"
   ]
  },
  {
   "cell_type": "code",
   "execution_count": 95,
   "metadata": {},
   "outputs": [],
   "source": [
    "def VariantShiftedInversePowerIteration(A, mu0, eps=10e-10, max_iter=500):\n",
    "    rec = []\n",
    "    I = np.identity(A.shape[0])\n",
    "    v = np.random.randn(A.shape[0])\n",
    "    v /= np.linalg.norm(v) \n",
    "    mu = mu0\n",
    "    for t in range(max_iter):\n",
    "        lu, piv = scipy.linalg.lu_factor(A - mu*I)\n",
    "        y = scipy.linalg.lu_solve((lu, piv), v)\n",
    "        if(np.linalg.norm(y) < eps):\n",
    "            print(\"A has eigencalue 0, try anothor x0\")\n",
    "            return 0, v, rec\n",
    "        lamb = v.dot(np.dot(A,v))/v.dot(v)\n",
    "        #err = np.linalg.norm(abs(v)-abs(y/np.linalg.norm(y)))\n",
    "        err = np.linalg.norm(A@v-lamb*v)\n",
    "        rec.append(err)\n",
    "        if t%1 == 0:\n",
    "            print(\"at iteration {}, diff of A@v and lamb*v is {}\".format(t, err))\n",
    "        if err < eps:\n",
    "            print(\"Converge at {} iteration(with diff), v = \".format(t), '\\n',v)\n",
    "            return lamb, v, rec\n",
    "        mu = v.T@A@v/v.T.dot(v)\n",
    "        v = y/np.linalg.norm(y)\n",
    "        \n",
    "    print(\"Use Max iteration {} still dont converge, v = \".format(max_iter), '\\n',v)\n",
    "    return lamb, v, rec"
   ]
  },
  {
   "cell_type": "code",
   "execution_count": 96,
   "metadata": {},
   "outputs": [
    {
     "name": "stdout",
     "output_type": "stream",
     "text": [
      "at iteration 0, diff of A@v and lamb*v is 1.6141935129126685\n",
      "at iteration 1, diff of A@v and lamb*v is 0.12712359891502845\n",
      "at iteration 2, diff of A@v and lamb*v is 0.18106024720412464\n",
      "at iteration 3, diff of A@v and lamb*v is 0.009382372211772448\n",
      "at iteration 4, diff of A@v and lamb*v is 0.00013474928907943677\n",
      "at iteration 5, diff of A@v and lamb*v is 1.3995902756972318e-07\n",
      "at iteration 6, diff of A@v and lamb*v is 3.47524551961835e-14\n",
      "Converge at 6 iteration(with diff), v =  \n",
      " [ 0.23471804  0.03625824 -0.17191694 -0.3340271   0.37028534 -0.40663498\n",
      "  0.40663498 -0.37028534  0.3340271   0.17191694 -0.03625824 -0.23471804]\n",
      "eigenvalue = 2.2679491924311224, \n",
      "eigenvector = [ 0.23471804  0.03625824 -0.17191694 -0.3340271   0.37028534 -0.40663498\n",
      "  0.40663498 -0.37028534  0.3340271   0.17191694 -0.03625824 -0.23471804]\n"
     ]
    },
    {
     "data": {
      "image/png": "[encoded data removed]",
      "text/plain": [
       "<Figure size 432x288 with 1 Axes>"
      ]
     },
     "metadata": {
      "needs_background": "light"
     },
     "output_type": "display_data"
    },
    {
     "name": "stdout",
     "output_type": "stream",
     "text": [
      "A@v = [ 0.5323286   0.08223184 -0.38989888 -0.7575565   0.83978834 -0.92222747\n",
      "  0.92222747 -0.83978834  0.7575565   0.38989888 -0.08223184 -0.5323286 ], \n",
      " lamb*v = [ 0.5323286   0.08223184 -0.38989888 -0.7575565   0.83978834 -0.92222747\n",
      "  0.92222747 -0.83978834  0.7575565   0.38989888 -0.08223184 -0.5323286 ]\n"
     ]
    }
   ],
   "source": [
    "lamb, v, rec = VariantShiftedInversePowerIteration(A, mu0=2.2, eps=10e-10, max_iter=500)\n",
    "print(\"eigenvalue = {}, \\neigenvector = {}\".format(lamb, v))\n",
    "plt.figure()\n",
    "plt.plot(rec)\n",
    "plt.show()\n",
    "print(\"A@v = {}, \\n lamb*v = {}\".format(A@v, lamb*v))"
   ]
  },
  {
   "cell_type": "code",
   "execution_count": 83,
   "metadata": {},
   "outputs": [],
   "source": [
    "#this method is not in problem set, but is snd order convergence version for symmetic matrix\n",
    "def VariantSymmetricShiftedInversePowerIteration(A, eps=10e-10, max_iter=500): \n",
    "    rec = []\n",
    "    I = np.identity(A.shape[0])\n",
    "    v = np.random.randn(A.shape[0])\n",
    "    v /= np.linalg.norm(v) \n",
    "    mu = v.T@A@v\n",
    "    for t in range(max_iter):\n",
    "        lu, piv = scipy.linalg.lu_factor(A - mu*I)\n",
    "        y = scipy.linalg.lu_solve((lu, piv), v)\n",
    "        if(np.linalg.norm(y) < eps):\n",
    "            print(\"A has eigencalue 0, try anothor x0\")\n",
    "            return 0, v, rec\n",
    "        lamb = v.dot(np.dot(A,v))/v.dot(v)\n",
    "        err = np.linalg.norm(abs(v)-abs(y/np.linalg.norm(y)))\n",
    "        rec.append(err)\n",
    "        if t%1 == 0:\n",
    "            print(\"at iteration {}, diff of vk+1 and vk is {}\".format(t, err))\n",
    "        if err < eps:\n",
    "            print(\"Converge at {} iteration(with diff), v = \".format(t), '\\n',v)\n",
    "            return lamb, v, rec\n",
    "        v = y/np.linalg.norm(y)\n",
    "        mu = v.T@A@v\n",
    "    print(\"Use Max iteration {} still dont converge, v = \".format(max_iter), '\\n',v)\n",
    "    return lamb, v, rec"
   ]
  },
  {
   "cell_type": "code",
   "execution_count": 87,
   "metadata": {},
   "outputs": [
    {
     "name": "stdout",
     "output_type": "stream",
     "text": [
      "at iteration 0, diff of vk+1 and vk is 0.7157082031788093\n",
      "at iteration 1, diff of vk+1 and vk is 0.35044228937823907\n",
      "at iteration 2, diff of vk+1 and vk is 0.012617221674645074\n",
      "at iteration 3, diff of vk+1 and vk is 7.660410516196046e-07\n",
      "at iteration 4, diff of vk+1 and vk is 1.5503420817984882e-15\n",
      "Converge at 4 iteration(with diff), v =  \n",
      " [ 0.16386361  0.37391895 -0.16386361 -0.37391895 -0.37391895  0.16386361\n",
      " -0.16386361  0.37391895  0.37391895  0.16386361 -0.37391895 -0.16386361]\n",
      "eigenvalue = 4.0, \n",
      "eigenvector = [ 0.16386361  0.37391895 -0.16386361 -0.37391895 -0.37391895  0.16386361\n",
      " -0.16386361  0.37391895  0.37391895  0.16386361 -0.37391895 -0.16386361]\n"
     ]
    },
    {
     "data": {
      "image/png": "[encoded data removed]",
      "text/plain": [
       "<Figure size 432x288 with 1 Axes>"
      ]
     },
     "metadata": {
      "needs_background": "light"
     },
     "output_type": "display_data"
    },
    {
     "name": "stdout",
     "output_type": "stream",
     "text": [
      "A@v = [ 0.65545444  1.49567581 -0.65545444 -1.49567581 -1.49567581  0.65545444\n",
      " -0.65545444  1.49567581  1.49567581  0.65545444 -1.49567581 -0.65545444], \n",
      " lamb*v = [ 0.65545444  1.49567581 -0.65545444 -1.49567581 -1.49567581  0.65545444\n",
      " -0.65545444  1.49567581  1.49567581  0.65545444 -1.49567581 -0.65545444]\n"
     ]
    }
   ],
   "source": [
    "lamb, v, rec = VariantSymmetricShiftedInversePowerIteration(A, eps=10e-10, max_iter=500)\n",
    "print(\"eigenvalue = {}, \\neigenvector = {}\".format(lamb, v))\n",
    "plt.figure()\n",
    "plt.plot(rec)\n",
    "plt.show()\n",
    "print(\"A@v = {}, \\n lamb*v = {}\".format(A@v, lamb*v))"
   ]
  }
 ],
 "metadata": {
  "kernelspec": {
   "display_name": "Python 3",
   "language": "python",
   "name": "python3"
  },
  "language_info": {
   "codemirror_mode": {
    "name": "ipython",
    "version": 3
   },
   "file_extension": ".py",
   "mimetype": "text/x-python",
   "name": "python",
   "nbconvert_exporter": "python",
   "pygments_lexer": "ipython3",
   "version": "3.7.0"
  }
 },
 "nbformat": 4,
 "nbformat_minor": 2
}
