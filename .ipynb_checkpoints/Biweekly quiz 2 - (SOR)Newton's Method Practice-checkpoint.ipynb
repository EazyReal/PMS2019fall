{
 "cells": [
  {
   "cell_type": "code",
   "execution_count": 181,
   "metadata": {},
   "outputs": [],
   "source": [
    "import numpy as np\n",
    "from numpy import exp, log\n",
    "from matplotlib import pyplot as plt\n",
    "\n",
    "#note that python log(x) default = ln(x) "
   ]
  },
  {
   "cell_type": "code",
   "execution_count": 182,
   "metadata": {},
   "outputs": [],
   "source": [
    "\n",
    "ln2 = log(2)\n",
    "\n",
    "def f(x):\n",
    "    return (exp(6*x) + 3*ln2*ln2*exp(2*x) - 3*ln2*exp(4*x) - ln2*ln2*ln2)\n",
    "\n",
    "def fp(x):\n",
    "    return (6*exp(6*x) + 6*ln2*ln2*exp(2*x) - 12*ln2*exp(4*x))\n",
    "\n",
    "def fpp(x):\n",
    "    return (36*exp(6*x) + 12*ln2*ln2*exp(2*x) - 48*ln2*exp(4*x))\n",
    "    "
   ]
  },
  {
   "cell_type": "code",
   "execution_count": 202,
   "metadata": {},
   "outputs": [
    {
     "data": {
      "image/png": "[encoded data removed]",
      "text/plain": [
       "<Figure size 432x288 with 1 Axes>"
      ]
     },
     "metadata": {
      "needs_background": "light"
     },
     "output_type": "display_data"
    }
   ],
   "source": [
    "x = np.arange(-0.4,0.05, 0.00001) #(-20,0) #(-1.0, 0.1)\n",
    "y = f(x)\n",
    "plt.title(\"y = f(x)\") \n",
    "plt.xlabel(\"x axis\") \n",
    "plt.ylabel(\"y axis\") \n",
    "plt.plot(x,y)\n",
    "plt.show()"
   ]
  },
  {
   "cell_type": "code",
   "execution_count": 203,
   "metadata": {},
   "outputs": [],
   "source": [
    "eps = 1e-5"
   ]
  },
  {
   "cell_type": "code",
   "execution_count": 204,
   "metadata": {},
   "outputs": [],
   "source": [
    "#Newton's method\n",
    "def newton(x0, f, fp, eps, M = 1000):\n",
    "    \n",
    "    x1 = x0 + eps + 1000\n",
    "    for R in range(0, M):\n",
    "        if(abs(x1-x0) < eps):\n",
    "            print(\"converge within {} rounds\".format(R))\n",
    "            return x0\n",
    "        #if(abs(f(x0)) < eps):\n",
    "        #    print(\"converge within {} rounds\".format(R))\n",
    "        #    return x0\n",
    "        #if(abs(fp(x0)) < 1e-9):\n",
    "        #    print(\"zero gradient, can't converge\")\n",
    "        #    return x0\n",
    "        x1 = x0 - f(x0)/fp(x0)\n",
    "        print(\"round {} | sol {} | f(sol) {}\".format(R, x1, f(x1)))\n",
    "        x0, x1 = x1, x0\n",
    "\n",
    "    if(abs(f(x0)) > eps):\n",
    "        print(\"doesn't converge to solution within eps = {}\".format(eps))\n",
    "    \n",
    "    return x0"
   ]
  },
  {
   "cell_type": "code",
   "execution_count": 205,
   "metadata": {},
   "outputs": [
    {
     "name": "stdout",
     "output_type": "stream",
     "text": [
      "round 0 | sol -0.3831117193126335 | f(sol) -0.011912058231314193\n",
      "round 1 | sol -0.3012129020108877 | f(sol) -0.003090777845781101\n",
      "round 2 | sol -0.25686890030733667 | f(sol) -0.0008544527346713848\n",
      "round 3 | sol -0.2304331531408229 | f(sol) -0.00024308959650481965\n",
      "round 4 | sol -0.21394181483667796 | f(sol) -7.024005191696991e-05\n",
      "round 5 | sol -0.20339297924971828 | f(sol) -2.0481986071463343e-05\n",
      "round 6 | sol -0.19654381361656406 | f(sol) -6.00631750374836e-06\n",
      "round 7 | sol -0.19205531978839407 | f(sol) -1.7676588084936107e-06\n",
      "round 8 | sol -0.18909640793191781 | f(sol) -5.214250181073687e-07\n",
      "round 9 | sol -0.18713834599944063 | f(sol) -1.540423841261962e-07\n",
      "round 10 | sol -0.18583934805993124 | f(sol) -4.555323501742592e-08\n",
      "round 11 | sol -0.1849761578662783 | f(sol) -1.347977612864426e-08\n",
      "round 12 | sol -0.18440193842893857 | f(sol) -3.9905673765439076e-09\n",
      "round 13 | sol -0.1840196746731369 | f(sol) -1.1817124501156684e-09\n",
      "round 14 | sol -0.18376507558165403 | f(sol) -3.5000341513935496e-10\n",
      "round 15 | sol -0.1835954507810731 | f(sol) -1.0367834368807394e-10\n",
      "round 16 | sol -0.18348241543569188 | f(sol) -3.071415344280126e-11\n",
      "round 17 | sol -0.18340708005746237 | f(sol) -9.099443420979014e-12\n",
      "round 18 | sol -0.1833568660464816 | f(sol) -2.696010081848499e-12\n",
      "round 19 | sol -0.18332339331979494 | f(sol) -7.986389327641064e-13\n",
      "round 20 | sol -0.18330108339188292 | f(sol) -2.366440376988521e-13\n",
      "round 21 | sol -0.1832862115090198 | f(sol) -7.022160630754115e-14\n",
      "round 22 | sol -0.18327628434256052 | f(sol) -2.0816681711721685e-14\n",
      "converge within 23 rounds\n"
     ]
    },
    {
     "data": {
      "text/plain": [
       "-0.18327628434256052"
      ]
     },
     "execution_count": 205,
     "metadata": {},
     "output_type": "execute_result"
    }
   ],
   "source": [
    "newton(-0.6, f, fp, eps) #0.6"
   ]
  },
  {
   "cell_type": "code",
   "execution_count": 224,
   "metadata": {},
   "outputs": [],
   "source": [
    "#Modified Newton's method\n",
    "def modified_newton(x0, f, fp, fpp, eps, M = 1000):\n",
    "    x1 = x0 + eps + 1000\n",
    "    for R in range(0, M):\n",
    "        if(abs(x1-x0) < eps):\n",
    "            print(\"converge within {} rounds\".format(R))\n",
    "            return x0\n",
    "        x1 = x0 - (f(x0)*fp(x0))/(fp(x0)*fp(x0)-f(x0)*fpp(x0))\n",
    "        print(\"round {} | sol {} | f(sol) {}\".format(R, x1, f(x1)))\n",
    "        x0, x1 = x1, x0\n",
    "\n",
    "    print(\"doesn't converge to solution within eps = {}\".format(eps))\n",
    "    return x0\n"
   ]
  },
  {
   "cell_type": "code",
   "execution_count": 225,
   "metadata": {},
   "outputs": [
    {
     "name": "stdout",
     "output_type": "stream",
     "text": [
      "round 0 | sol -1.2949581098017648 | f(sol) -0.2361675313592253\n",
      "round 1 | sol -0.8490781637106013 | f(sol) -0.13274976150047105\n",
      "round 2 | sol -0.48109965096679264 | f(sol) -0.030107940296406732\n",
      "round 3 | sol -0.2566917077189821 | f(sol) -0.0008487373152699651\n",
      "round 4 | sol -0.1883946005522596 | f(sol) -3.5587343599763344e-07\n",
      "round 5 | sol -0.18328277057602646 | f(sol) -4.846123502488808e-14\n",
      "round 6 | sol -0.18325655417764072 | f(sol) -5.551115123125783e-17\n",
      "round 7 | sol -0.1832566009329594 | f(sol) -1.6653345369377348e-16\n",
      "converge within 8 rounds\n"
     ]
    },
    {
     "data": {
      "text/plain": [
       "-0.1832566009329594"
      ]
     },
     "execution_count": 225,
     "metadata": {},
     "output_type": "execute_result"
    }
   ],
   "source": [
    "modified_newton(0.6, f, fp, fpp, eps) #0.6"
   ]
  },
  {
   "cell_type": "code",
   "execution_count": 230,
   "metadata": {},
   "outputs": [],
   "source": [
    "#SOR Newton's Method\n",
    "def SOR_newton(x0, f, fp, m, eps, M = 15):\n",
    "    x1 = x0 + eps + 1000\n",
    "    for R in range(0, M):\n",
    "        if(abs(x1-x0) < eps):\n",
    "            #print(\"converge within {} rounds\".format(R))\n",
    "            return x0, R\n",
    "        x1 = x0 - m*f(x0)/fp(x0)\n",
    "        #print(\"round {} | sol {} | f(sol) {}\".format(R, x1, f(x1)))\n",
    "        x0, x1 = x1, x0\n",
    "    return x0, M"
   ]
  },
  {
   "cell_type": "code",
   "execution_count": 231,
   "metadata": {},
   "outputs": [],
   "source": [
    "def SOR_test():\n",
    "    for m in range(1, 11):\n",
    "        x, r = SOR_newton(0.6, f, fp, m, eps)\n",
    "        print(\"m = {}, round = {}, sol = {}, f(sol) = {}\".format(m, r, x, f(x)))\n",
    "        "
   ]
  },
  {
   "cell_type": "code",
   "execution_count": 232,
   "metadata": {},
   "outputs": [
    {
     "name": "stdout",
     "output_type": "stream",
     "text": [
      "doesn't converge to solution within eps = 1e-05\n",
      "m = 1, round = 15, sol = -0.1770960864953054, f(sol) = 6.34486015560487e-07\n",
      "m = 2, round = 13, sol = -0.18325213185901532, f(sol) = 2.7755575615628914e-16\n",
      "m = 3, round = 13, sol = -0.18325622111356024, f(sol) = 5.551115123125783e-17\n",
      "m = 4, round = 10, sol = -0.1832551643826428, f(sol) = -5.551115123125783e-17\n",
      "doesn't converge to solution within eps = 1e-05\n",
      "m = 5, round = 15, sol = -0.18293401635952583, f(sol) = 8.940254092593136e-11\n",
      "doesn't converge to solution within eps = 1e-05\n",
      "m = 6, round = 15, sol = -0.1912090777851544, f(sol) = -1.3084256594297905e-06\n",
      "doesn't converge to solution within eps = 1e-05\n",
      "m = 7, round = 15, sol = -0.42332363816713475, f(sol) = -0.018461879396569236\n",
      "doesn't converge to solution within eps = 1e-05\n",
      "m = 8, round = 15, sol = -0.5112697651703497, f(sol) = -0.03708155054202594\n",
      "doesn't converge to solution within eps = 1e-05\n",
      "m = 9, round = 15, sol = -0.18605886577326491, f(sol) = -5.8144653813929636e-08\n",
      "doesn't converge to solution within eps = 1e-05\n",
      "m = 10, round = 15, sol = -0.24390866272185763, f(sol) = -0.000496457489035762\n"
     ]
    }
   ],
   "source": [
    "SOR_test()"
   ]
  },
  {
   "cell_type": "code",
   "execution_count": null,
   "metadata": {},
   "outputs": [],
   "source": []
  },
  {
   "cell_type": "code",
   "execution_count": null,
   "metadata": {},
   "outputs": [],
   "source": []
  }
 ],
 "metadata": {
  "kernelspec": {
   "display_name": "Python 3",
   "language": "python",
   "name": "python3"
  },
  "language_info": {
   "codemirror_mode": {
    "name": "ipython",
    "version": 3
   },
   "file_extension": ".py",
   "mimetype": "text/x-python",
   "name": "python",
   "nbconvert_exporter": "python",
   "pygments_lexer": "ipython3",
   "version": "3.7.4"
  }
 },
 "nbformat": 4,
 "nbformat_minor": 2
}
