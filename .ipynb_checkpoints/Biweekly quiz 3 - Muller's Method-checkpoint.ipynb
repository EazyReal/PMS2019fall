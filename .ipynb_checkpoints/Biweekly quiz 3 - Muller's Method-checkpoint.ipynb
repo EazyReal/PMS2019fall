{
 "cells": [
  {
   "cell_type": "code",
   "execution_count": 1,
   "metadata": {},
   "outputs": [],
   "source": [
    "import numpy as np\n",
    "from numpy import exp, log\n",
    "from matplotlib import pyplot as plt\n",
    "\n",
    "#note that python log(x) default = ln(x) "
   ]
  },
  {
   "cell_type": "code",
   "execution_count": 10,
   "metadata": {},
   "outputs": [],
   "source": [
    "def f(x):\n",
    "    return x*x*x*x - 3*x*x*x + x*x + x + 1\n",
    "def df(x):\n",
    "    return 4*x*x*x - 9*x*x + 2*x + 1\n",
    "\n",
    "eps = 1e-5"
   ]
  },
  {
   "cell_type": "code",
   "execution_count": 23,
   "metadata": {},
   "outputs": [
    {
     "data": {
      "image/png": "[encoded data removed]",
      "text/plain": [
       "<Figure size 432x288 with 1 Axes>"
      ]
     },
     "metadata": {
      "needs_background": "light"
     },
     "output_type": "display_data"
    }
   ],
   "source": [
    "x = np.arange(1.3, 2.4, 0.00001)\n",
    "y = f(x)\n",
    "y2 = np.zeros(len(x))\n",
    "plt.title(\"y = f(x)\") \n",
    "plt.xlabel(\"x axis\") \n",
    "plt.ylabel(\"y axis\") \n",
    "plt.plot(x,y)\n",
    "plt.plot(x,y2)\n",
    "plt.show()"
   ]
  },
  {
   "cell_type": "code",
   "execution_count": 24,
   "metadata": {},
   "outputs": [],
   "source": [
    "def Muller(f, x0, x1, x2, eps, M = 50):\n",
    "    print(\"solving {} with Muller's Method\\n\".format(func.__doc__))\n",
    "    x = [x0, x1, x2]\n",
    "    sort(x)\n",
    "    for R in range(M):\n",
    "        f = map(f, x)\n",
    "        h1 = x[1]-x[0]\n",
    "        h2 = x[2]-x[1]\n",
    "        d= "
   ]
  },
  {
   "cell_type": "code",
   "execution_count": 9,
   "metadata": {},
   "outputs": [],
   "source": [
    "#Newton's method\n",
    "def Newton(x0, f, fp, eps, M = 50):\n",
    "    print(\"solve {} with Newton's Method\\n\".format(func.__doc__))\n",
    "    x1 = x0 + eps + 1000\n",
    "    for R in range(0, M+1):\n",
    "        if(abs(x1-x0) < eps):\n",
    "            print(\"converge within {} rounds\".format(R))\n",
    "            return x0\n",
    "        #if(abs(f(x0)) < eps): print(\"converge within {} rounds\".format(R))\n",
    "        #if(abs(fp(x0)) < 1e-9):print(\"zero gradient, can't converge\")\n",
    "        x1 = x0 - f(x0)/fp(x0)\n",
    "        print(\"round {} | sol {} | f(sol) {}\".format(R+1, x1, f(x1)))\n",
    "        x0, x1 = x1, x0\n",
    "\n",
    "    print(\"doesn't converge to solution within eps = {}, MaxIter = {}\".format(eps, M))\n",
    "    \n",
    "    return x0, R"
   ]
  },
  {
   "cell_type": "code",
   "execution_count": null,
   "metadata": {},
   "outputs": [],
   "source": []
  }
 ],
 "metadata": {
  "kernelspec": {
   "display_name": "Python 3",
   "language": "python",
   "name": "python3"
  },
  "language_info": {
   "codemirror_mode": {
    "name": "ipython",
    "version": 3
   },
   "file_extension": ".py",
   "mimetype": "text/x-python",
   "name": "python",
   "nbconvert_exporter": "python",
   "pygments_lexer": "ipython3",
   "version": "3.7.4"
  }
 },
 "nbformat": 4,
 "nbformat_minor": 2
}
